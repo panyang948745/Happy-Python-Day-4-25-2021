{
  "nbformat": 4,
  "nbformat_minor": 0,
  "metadata": {
    "colab": {
      "name": "1_基本輸入與輸出.ipynb",
      "provenance": [],
      "authorship_tag": "ABX9TyOVYzlqXvyr4CX9nVVz/KPO",
      "include_colab_link": true
    },
    "kernelspec": {
      "name": "python3",
      "display_name": "Python 3"
    },
    "language_info": {
      "name": "python"
    }
  },
  "cells": [
    {
      "cell_type": "markdown",
      "metadata": {
        "id": "view-in-github",
        "colab_type": "text"
      },
      "source": [
        "<a href=\"https://colab.research.google.com/github/panyang948745/Happy-Python-Day-4-25-2021/blob/main/1_%E5%9F%BA%E6%9C%AC%E8%BC%B8%E5%85%A5%E8%88%87%E8%BC%B8%E5%87%BA.ipynb\" target=\"_parent\"><img src=\"https://colab.research.google.com/assets/colab-badge.svg\" alt=\"Open In Colab\"/></a>"
      ]
    },
    {
      "cell_type": "code",
      "metadata": {
        "colab": {
          "base_uri": "https://localhost:8080/"
        },
        "id": "yxhKQQb08OGv",
        "outputId": "c0edc210-ca89-4614-e312-c437800ab04a"
      },
      "source": [
        "# -*- coding: utf-8 -*-\n",
        "x = input('Enter your name:')\n",
        "print('Hello, ' + x)\n",
        "\n",
        "print(type(a))\n",
        "\n"
      ],
      "execution_count": 2,
      "outputs": [
        {
          "output_type": "stream",
          "text": [
            "Enter your name:645\n",
            "Hello, 645\n",
            "<class 'str'>\n"
          ],
          "name": "stdout"
        }
      ]
    },
    {
      "cell_type": "markdown",
      "metadata": {
        "id": "Da8emnFV8ilv"
      },
      "source": [
        "//type()函數顯示資料型態"
      ]
    },
    {
      "cell_type": "code",
      "metadata": {
        "colab": {
          "base_uri": "https://localhost:8080/",
          "height": 225
        },
        "id": "QdobzNmi8T4H",
        "outputId": "1f18b61d-a4e5-4b46-8f1a-fac553cac52e"
      },
      "source": [
        "a = input(\"請輸入：\")\n",
        "\n",
        "b=a+1"
      ],
      "execution_count": 4,
      "outputs": [
        {
          "output_type": "stream",
          "text": [
            "請輸入：654\n"
          ],
          "name": "stdout"
        },
        {
          "output_type": "error",
          "ename": "TypeError",
          "evalue": "ignored",
          "traceback": [
            "\u001b[0;31m---------------------------------------------------------------------------\u001b[0m",
            "\u001b[0;31mTypeError\u001b[0m                                 Traceback (most recent call last)",
            "\u001b[0;32m<ipython-input-4-661bc4e16c01>\u001b[0m in \u001b[0;36m<module>\u001b[0;34m()\u001b[0m\n\u001b[1;32m      1\u001b[0m \u001b[0ma\u001b[0m \u001b[0;34m=\u001b[0m \u001b[0minput\u001b[0m\u001b[0;34m(\u001b[0m\u001b[0;34m\"請輸入：\"\u001b[0m\u001b[0;34m)\u001b[0m\u001b[0;34m\u001b[0m\u001b[0;34m\u001b[0m\u001b[0m\n\u001b[1;32m      2\u001b[0m \u001b[0;34m\u001b[0m\u001b[0m\n\u001b[0;32m----> 3\u001b[0;31m \u001b[0mb\u001b[0m\u001b[0;34m=\u001b[0m\u001b[0ma\u001b[0m\u001b[0;34m+\u001b[0m\u001b[0;36m1\u001b[0m\u001b[0;34m\u001b[0m\u001b[0;34m\u001b[0m\u001b[0m\n\u001b[0m",
            "\u001b[0;31mTypeError\u001b[0m: can only concatenate str (not \"int\") to str"
          ]
        }
      ]
    },
    {
      "cell_type": "markdown",
      "metadata": {
        "id": "jxA-uZpD9cBe"
      },
      "source": [
        "//TypeError :資料型態(data type)錯誤"
      ]
    },
    {
      "cell_type": "code",
      "metadata": {
        "colab": {
          "base_uri": "https://localhost:8080/"
        },
        "id": "tOMsODDj9VDI",
        "outputId": "14322ad3-a602-4b6b-dca0-02810fc26da9"
      },
      "source": [
        "a = eval(input(\"請輸入：\"))\n",
        "\n",
        "b=a+1\n",
        "b"
      ],
      "execution_count": 5,
      "outputs": [
        {
          "output_type": "stream",
          "text": [
            "請輸入：654\n"
          ],
          "name": "stdout"
        },
        {
          "output_type": "execute_result",
          "data": {
            "text/plain": [
              "655"
            ]
          },
          "metadata": {
            "tags": []
          },
          "execution_count": 5
        }
      ]
    },
    {
      "cell_type": "markdown",
      "metadata": {
        "id": "Ck757HxC9m--"
      },
      "source": [
        "//欲讀取使用者輸入的整數===>使用eval()函數 或int()"
      ]
    },
    {
      "cell_type": "code",
      "metadata": {
        "colab": {
          "base_uri": "https://localhost:8080/"
        },
        "id": "h_37e-tu9wDU",
        "outputId": "16980293-7375-496a-e73a-fec0f32ac27d"
      },
      "source": [
        "a,b = eval(input(\"請輸入兩個數位：\"))\n",
        "a,b"
      ],
      "execution_count": 12,
      "outputs": [
        {
          "output_type": "stream",
          "text": [
            "請輸入兩個數位：5,6\n"
          ],
          "name": "stdout"
        },
        {
          "output_type": "execute_result",
          "data": {
            "text/plain": [
              "(5, 6)"
            ]
          },
          "metadata": {
            "tags": []
          },
          "execution_count": 12
        }
      ]
    },
    {
      "cell_type": "markdown",
      "metadata": {
        "id": "W5Yczf52-Cg2"
      },
      "source": [
        "//一次輸入多（兩）個資料(以,隔開)"
      ]
    },
    {
      "cell_type": "code",
      "metadata": {
        "id": "q9Rq1EuL-Hr2"
      },
      "source": [
        "2_1_使用String modulo operator(%)\n",
        "# 列印整數(integer)與 浮點數(float) 的值\n",
        "print(\"Happy : %2d, Python : %5.2f\" % (1, 05.333))\n",
        " \n",
        "# 列印整數值 ==> %3d 和 %2d有 何不同\n",
        "print(\"Total students : %3d, Boys : %2d\" % (240, 120))\n",
        " \n",
        "# print octal value\n",
        "print(\"%7.3o\" % (25))\n",
        " \n",
        "# print exponential value\n",
        "print(\"%10.3E\" % (356.08977))\n"
      ],
      "execution_count": null,
      "outputs": []
    },
    {
      "cell_type": "code",
      "metadata": {
        "id": "fLoUHPrb-Mll"
      },
      "source": [
        "2_2.使用format 方法\n",
        "# using format() method\n",
        "print('I love {} for \"{}!\"'.format('Python', 'CTFer'))\n",
        " \n",
        "# 使用位置表達 ==>看看底下有何不同\n",
        "print('{0} and {1}'.format('Python', 'CTFer'))\n",
        " \n",
        "print('{1} and {0}'.format('Python', 'CTFer'))\n"
      ],
      "execution_count": null,
      "outputs": []
    },
    {
      "cell_type": "markdown",
      "metadata": {
        "id": "BuEdB5T3-S4G"
      },
      "source": [
        "//更多格式化輸出方法請參閱底下資料\n",
        "Python | Output Formatting\n",
        "https://www.geeksforgeeks.org/python-output-formatting/"
      ]
    }
  ]
}